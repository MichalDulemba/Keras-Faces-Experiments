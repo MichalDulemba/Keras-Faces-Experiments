{
 "cells": [
  {
   "cell_type": "code",
   "execution_count": 34,
   "metadata": {
    "collapsed": true
   },
   "outputs": [],
   "source": [
    "#Version 19- testing with vgg\n",
    "# doesnt converge at all\n",
    "#https://github.com/fchollet/keras/blob/master/keras/applications/vgg16.py",
    "#https://github.com/fchollet/deep-learning-models"
   ]
  },
  {
   "cell_type": "code",
   "execution_count": null,
   "metadata": {
    "collapsed": false,
    "deletable": true,
    "editable": true
   },
   "outputs": [],
   "source": [
    "#all imports\n",
    "%matplotlib inline\n",
    "import numpy as np\n",
    "import matplotlib.pyplot as plt\n",
    "import os\n",
    "import cv2\n",
    "import csv\n",
    "import imageio\n",
    "from datetime import datetime\n",
    "import pwd\n",
    "import grp\n",
    "import shutil\n",
    "import json\n",
    "\n",
    "from keras.models import Sequential\n",
    "from keras.layers import Dense\n",
    "from keras.layers import Dropout\n",
    "from keras.layers import Flatten\n",
    "from keras.layers.convolutional import Convolution2D\n",
    "from keras.layers.convolutional import MaxPooling2D\n",
    "from keras.preprocessing.image import ImageDataGenerator\n",
    "from keras.callbacks import ModelCheckpoint, EarlyStopping\n",
    "from keras.utils import np_utils\n",
    "from keras import backend as K\n",
    "from keras.optimizers import SGD\n",
    "from keras import regularizers\n"
   ]
  },
  {
   "cell_type": "code",
   "execution_count": null,
   "metadata": {
    "collapsed": false,
    "deletable": true,
    "editable": true
   },
   "outputs": [],
   "source": [
    "# SEED initialization\n",
    "K.set_image_dim_ordering('tf')\n",
    "seed = 7\n",
    "np.random.seed(seed)\n"
   ]
  },
  {
   "cell_type": "code",
   "execution_count": null,
   "metadata": {
    "collapsed": false,
    "deletable": true,
    "editable": true
   },
   "outputs": [],
   "source": [
    "def rgb2gray(rgb):\n",
    "\n",
    "    r, g, b = rgb[:,:,0], rgb[:,:,1], rgb[:,:,2]\n",
    "    gray = 0.2989 * r + 0.5870 * g + 0.1140 * b\n",
    "\n",
    "    return gray\n",
    "\n",
    "def readimagesfromfolder(path, color, show):\n",
    "\timagepackage_list = []\n",
    "\timagepackage = []\n",
    "\timagelist = []\n",
    "\tfilelist = sorted(os.listdir(path))\n",
    "\tfor filename in filelist:\n",
    "\t\tfullfilename =  path + filename\n",
    "\t\t#print(fullfilename)        \n",
    "\t\tsingleimage = imageio.imread(fullfilename)\n",
    "\t\tsingleimage = cv2.resize(singleimage,(96,96), interpolation=cv2.INTER_AREA)        \n",
    "\t\tsingleimage = rgb2gray(singleimage)\n",
    "\t\t#print(singleimage)        \n",
    "\t\tif show==1:\n",
    "\t\t\tplt.imshow(singleimage)\n",
    "\t\t\tplt.show()\n",
    "\t\timagepackage.append(singleimage)\n",
    "\t\timagepackage_list.append(imagepackage)        \n",
    "\t\timagepackage = []        \n",
    "\t#print(len(imagepackage))        \n",
    "\timagepackage_list = np.float32(imagepackage_list)\n",
    "\t#cv2.destroyAllWindows()\n",
    "\treturn imagepackage_list\n",
    "\n",
    "def readlabelfromcsv(filename):\n",
    "    training_y = []\n",
    "    with open(filename) as f:\n",
    "        #training_y.append(f.readline())\n",
    "        content = csv.reader(f)\n",
    "        for line in content:\n",
    "            #print(line[0])\n",
    "            training_y.append(int(line[0]))\n",
    "    return training_y\n"
   ]
  },
  {
   "cell_type": "code",
   "execution_count": null,
   "metadata": {
    "collapsed": false,
    "deletable": true,
    "editable": true
   },
   "outputs": [],
   "source": [
    "\n",
    "\n",
    "def load_data(mainfolder):\n",
    "    folderpath = mainfolder+'training/'\n",
    "    X_train=readimagesfromfolder(folderpath, 0, 0)\n",
    "    y_train = readlabelfromcsv(mainfolder+'training.csv')\n",
    "\n",
    "    folderpath = mainfolder+'test/'\n",
    "    X_test=readimagesfromfolder(folderpath, 0, 0)\n",
    "    y_test = readlabelfromcsv(mainfolder+'test.csv')\n",
    "    \n",
    "    X_train = X_train / 255\n",
    "    X_test = X_test / 255\n",
    "    y_train = np_utils.to_categorical(y_train)\n",
    "    y_test = np_utils.to_categorical(y_test)\n",
    "    num_classes = y_test.shape[1]\n",
    "\n",
    "    return X_train, y_train, X_test, y_test, num_classes\n",
    "\n",
    "\n",
    "#datagen.fit(X_train) necessary only when using zca"
   ]
  },
  {
   "cell_type": "code",
   "execution_count": null,
   "metadata": {
    "collapsed": false,
    "deletable": true,
    "editable": true
   },
   "outputs": [],
   "source": [
    "def show_data_info(X_train,X_test,y_train,y_test):\n",
    "    print(np.shape(X_train))\n",
    "    print(np.shape(X_test))\n",
    "\n",
    "    print(y_train)\n",
    "    print(np.shape(y_train))\n",
    "\n",
    "    print(y_test)\n",
    "    print(np.shape(y_test))\n"
   ]
  },
  {
   "cell_type": "code",
   "execution_count": null,
   "metadata": {
    "collapsed": false
   },
   "outputs": [],
   "source": [
    "#saving everything in one folder\n",
    "def plot_accuracy(path, history):\n",
    "    figure = plt.figure(figsize=(20,20))\n",
    "    plt.plot(history.history['acc'])\n",
    "    plt.plot(history.history['val_acc'])\n",
    "\n",
    "    plt.xlabel(\"epoch\")\n",
    "    plt.ylabel(\"accuracy\")\n",
    "    plt.title(\"model accuracy\")\n",
    "    plt.grid(True)\n",
    "\n",
    "    plt.legend([\"train\", \"test\"], loc=\"upper left\")\n",
    "    plt.show()\n",
    "    figure.savefig(path+\"/accuracy.png\")\n",
    "    \n",
    "def save_experiment(history, generator_settings):\n",
    "    \n",
    "    # created folder based on current time\n",
    "    start = datetime.now().strftime(\"%Y-%m-%d--%H-%M-%S\")\n",
    "    path = str(start)\n",
    "    os.mkdir(path)\n",
    "    \n",
    "    #print history.history\n",
    "    np.save(path + \"/history\", history.history)\n",
    "    \n",
    "    #save model scheme\n",
    "    modelscheme = model.to_json()\n",
    "    with open(path+\"/modelscheme.json\", \"w+\") as f:\n",
    "        f.write(modelscheme)\n",
    "        f.close()\n",
    "    \n",
    "    #create a plot with val accuracy    \n",
    "    plot_accuracy(path, history)\n",
    "    source = \"modelcheckpoints\"\n",
    "    target = path\n",
    "    shutil.move(source, target)\n",
    "    \n",
    "    #save generator settings\n",
    "   \n",
    "    with open(path+\"/generator_settings.json\",\"w+\") as f:\n",
    "        json.dump(generator_settings, f)\n",
    "        f.close\n",
    "    \n",
    "    # trying to fix issues with permissions - still no luck\n",
    "    uid = pwd.getpwnam(\"nobody\").pw_uid\n",
    "    gid = grp.getgrnam(\"nogroup\").gr_gid\n",
    "    os.chown(path, uid, gid)\n",
    "\n",
    "\n",
    "    for dirpath, dirnames, filenames in os.walk('./'+path):\n",
    "        for filename in filenames:\n",
    "            path = os.path.join(dirpath, filename)\n",
    "            os.chown(path, uid, gid) # for example\n",
    "            os.chmod(path, 0o777)\n",
    "\n",
    "def my_callbacks():\n",
    "    if not(os.path.isdir(\"modelcheckpoints\")):\n",
    "        os.mkdir(\"modelcheckpoints\")\n",
    "    filename = \"modelcheckpoints/model_epoch_{epoch:02d}_val_acc_{val_acc:.2f}.hd5\"\n",
    "    earlystopping = EarlyStopping(monitor = \"val_acc\", patience = 20, verbose=1, mode=\"auto\")\n",
    "    checkpoint = ModelCheckpoint(filename, monitor = \"val_acc\", verbose =1, mode=\"auto\", save_best_only = \"True\")\n",
    "    list_of_callbacks = [earlystopping, checkpoint]\n",
    "    return list_of_callbacks"
   ]
  },
  {
   "cell_type": "code",
   "execution_count": null,
   "metadata": {
    "collapsed": true
   },
   "outputs": [],
   "source": [
    "############################################ model and generator settings below ###############"
   ]
  },
  {
   "cell_type": "code",
   "execution_count": null,
   "metadata": {
    "collapsed": true
   },
   "outputs": [],
   "source": [
    "generator_settings = {\n",
    "    \"featurewise_center\": False,  \n",
    "    \"samplewise_center\" : False,  \n",
    "    \"featurewise_std_normalization\" : False, \n",
    "    \"samplewise_std_normalization\" : False,  \n",
    "    \"zca_whitening\": False,  \n",
    "    \"rotation_range\": 10,\n",
    "    \"zoom_range\" : 0.2,\n",
    "    \"width_shift_range\": 0.3,  # randomly shift images horizontally (fraction of total width)\n",
    "    \"height_shift_range\" :0.3,  # randomly shift images vertically (fraction of total height)\n",
    "    \"horizontal_flip\": True,  # randomly flip images\n",
    "    \"vertical_flip\": False,\n",
    "    \"fill_mode\":\"constant\", \n",
    "    \"cval\":0}\n",
    "\n",
    "datagen = ImageDataGenerator(**generator_settings) #unpacking dictionary values - beautiful isn't it? "
   ]
  },
  {
   "cell_type": "code",
   "execution_count": null,
   "metadata": {
    "collapsed": false
   },
   "outputs": [],
   "source": [
    "def larger_model():\n",
    "\t# create model\n",
    "    model = Sequential()\n",
    "    model.add(Convolution2D(64, 3, 3, border_mode='same', activation='relu',  input_shape=(96,96,1) ))\n",
    "    model.add(Convolution2D(64, 3, 3, border_mode='same', activation='relu'))\n",
    "    model.add(MaxPooling2D((2,2), strides=(2,2)))\n",
    "\n",
    "    model.add(Convolution2D(128, 3, 3, border_mode='same', activation='relu'))\n",
    "    model.add(Convolution2D(128, 3, 3, border_mode='same', activation='relu'))\n",
    "    model.add(MaxPooling2D((2,2), strides=(2,2)))\n",
    "\n",
    "    model.add(Convolution2D(256, 3, 3, border_mode='same', activation='relu'))\n",
    "    model.add(Convolution2D(256, 3, 3,  border_mode='same', activation='relu'))\n",
    "    model.add(Convolution2D(256, 3, 3,  border_mode='same', activation='relu'))\n",
    "    model.add(MaxPooling2D((2,2), strides=(2,2)))\n",
    "\n",
    "    model.add(Convolution2D(512, 3, 3,  border_mode='same', activation='relu'))\n",
    "    model.add(Convolution2D(512, 3, 3,  border_mode='same', activation='relu'))\n",
    "    model.add(Convolution2D(512, 3, 3,  border_mode='same', activation='relu'))\n",
    "    model.add(MaxPooling2D((2,2), strides=(2,2)))\n",
    "\n",
    "    model.add(Convolution2D(512, 3, 3,  border_mode='same', activation='relu'))\n",
    "    model.add(Convolution2D(512, 3, 3,  border_mode='same', activation='relu'))\n",
    "    model.add(Convolution2D(512, 3, 3,  border_mode='same', activation='relu'))\n",
    "    model.add(MaxPooling2D((2,2), strides=(2,2)))\n",
    "\n",
    "    model.add(Flatten())\n",
    "    model.add(Dense(4096, activation='relu'))\n",
    "    model.add(Dense(4096, activation='relu'))\n",
    "    model.add(Dense(num_classes, activation='softmax'))\n",
    "    # Compile model\n",
    "    model.compile(loss='categorical_crossentropy', optimizer='adam', metrics=['accuracy'])\n",
    "    return model\n"
   ]
  },
  {
   "cell_type": "code",
   "execution_count": null,
   "metadata": {
    "collapsed": false
   },
   "outputs": [],
   "source": [
    "mainfolder = 'data/blonds/'\n",
    "X_train, y_train, X_test, y_test, num_classes = load_data(mainfolder)\n",
    "\n",
    "show_data_info(X_train,X_test,y_train,y_test)\n",
    "\n",
    "# build the model\n",
    "model = larger_model()\n",
    "model.summary()\n",
    "\n",
    "# Fit the model\n",
    "history = model.fit_generator(datagen.flow(X_train, y_train, batch_size=25), callbacks = my_callbacks(), samples_per_epoch = 5000, nb_epoch = 100, verbose=2, validation_data=(X_test, y_test))\n",
    "\n",
    "# save all information about current experiment\n",
    "save_experiment(history, generator_settings)\n",
    "    \n",
    "scores = model.evaluate(X_test, y_test, verbose=0)\n",
    "print scores\n",
    "print(\"Baseline Error: %.2f%%\" % (100-scores[1]*100))\n",
    "\n"
   ]
  }
 ],
 "metadata": {
  "kernelspec": {
   "display_name": "Python 2",
   "language": "python",
   "name": "python2"
  },
  "language_info": {
   "codemirror_mode": {
    "name": "ipython",
    "version": 2
   },
   "file_extension": ".py",
   "mimetype": "text/x-python",
   "name": "python",
   "nbconvert_exporter": "python",
   "pygments_lexer": "ipython2",
   "version": "2.7.6"
  },
  "widgets": {
   "state": {},
   "version": "1.1.2"
  }
 },
 "nbformat": 4,
 "nbformat_minor": 2
}
