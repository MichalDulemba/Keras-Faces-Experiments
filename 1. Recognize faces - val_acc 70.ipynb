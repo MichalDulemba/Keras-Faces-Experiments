{
 "cells": [
  {
   "cell_type": "code",
   "execution_count": 29,
   "metadata": {
    "collapsed": true
   },
   "outputs": [],
   "source": [
    "# First attempt to create network to recognize 3 different people (Jackie Chan, Barack Obama and Rachel McAdams) v1.0\n",
    "# Manual loading images\n",
    "# No image augmentation, no generator\n",
    "# \"Random\" network structure based on one of articles from http://machinelearningmastery.com/\n",
    "# Not so bad results - 70% accuracy on the \"basic\" set"
   ]
  },
  {
   "cell_type": "code",
   "execution_count": 30,
   "metadata": {
    "collapsed": false,
    "deletable": true,
    "editable": true
   },
   "outputs": [],
   "source": [
    "#all imports\n",
    "%matplotlib inline\n",
    "import numpy as np\n",
    "import matplotlib.pyplot as plt\n",
    "import os\n",
    "#import cv2\n",
    "import csv\n",
    "import imageio\n",
    "\n",
    "from keras.models import Sequential\n",
    "from keras.layers import Dense\n",
    "from keras.layers import Dropout\n",
    "from keras.layers import Flatten\n",
    "from keras.layers.convolutional import Convolution2D\n",
    "from keras.layers.convolutional import MaxPooling2D\n",
    "from keras.utils import np_utils\n",
    "from keras import backend as K\n"
   ]
  },
  {
   "cell_type": "code",
   "execution_count": 31,
   "metadata": {
    "collapsed": true,
    "deletable": true,
    "editable": true
   },
   "outputs": [],
   "source": [
    "K.set_image_dim_ordering('th')\n",
    "seed = 7\n",
    "np.random.seed(seed)"
   ]
  },
  {
   "cell_type": "code",
   "execution_count": 32,
   "metadata": {
    "collapsed": false,
    "deletable": true,
    "editable": true
   },
   "outputs": [],
   "source": [
    "def rgb2gray(rgb):\n",
    "\n",
    "    r, g, b = rgb[:,:,0], rgb[:,:,1], rgb[:,:,2]\n",
    "    gray = 0.2989 * r + 0.5870 * g + 0.1140 * b\n",
    "\n",
    "    return gray\n",
    "\n",
    "def readimagesfromfolder(path, color, show):\n",
    "\timagepackage_list = []\n",
    "\timagepackage = []\n",
    "\timagelist = []\n",
    "\tfilelist = sorted(os.listdir(path))\n",
    "\tfor filename in filelist:\n",
    "\t\tfullfilename =  path + filename\n",
    "\t\t#print(fullfilename)        \n",
    "\t\tsingleimage = imageio.imread(fullfilename)\n",
    "\t\tsingleimage = rgb2gray(singleimage)\n",
    "\t\t#print(singleimage)        \n",
    "\t\tif show==1:\n",
    "\t\t\tplt.imshow(singleimage)\n",
    "\t\t\tplt.show()\n",
    "\t\timagepackage.append(singleimage)\n",
    "\t\timagepackage_list.append(imagepackage)        \n",
    "\t\timagepackage = []        \n",
    "\t#print(len(imagepackage))        \n",
    "\timagepackage_list = np.float32(imagepackage_list)\n",
    "\t#cv2.destroyAllWindows()\n",
    "\treturn imagepackage_list\n",
    "\n",
    "def readlabelfromcsv(filename):\n",
    "    training_y = []\n",
    "    with open(filename) as f:\n",
    "        #training_y.append(f.readline())\n",
    "        content = csv.reader(f)\n",
    "        for line in content:\n",
    "            #print(line[0])\n",
    "            training_y.append(int(line[0]))\n",
    "    return training_y\n",
    "\n",
    "\n"
   ]
  },
  {
   "cell_type": "code",
   "execution_count": 33,
   "metadata": {
    "collapsed": false,
    "deletable": true,
    "editable": true
   },
   "outputs": [
    {
     "name": "stdout",
     "output_type": "stream",
     "text": [
      "(162, 1, 180, 180)\n",
      "(48, 1, 180, 180)\n",
      "[0, 0, 0, 0, 0, 0, 0, 0, 0, 0, 0, 0, 0, 0, 0, 0, 0, 0, 0, 0, 0, 0, 0, 0, 0, 0, 0, 0, 0, 0, 0, 0, 0, 0, 0, 0, 0, 0, 0, 0, 0, 0, 0, 0, 0, 0, 0, 0, 0, 0, 0, 0, 1, 1, 1, 1, 1, 1, 1, 1, 1, 1, 1, 1, 1, 1, 1, 1, 1, 1, 1, 1, 1, 1, 1, 1, 1, 1, 1, 1, 1, 1, 1, 1, 1, 1, 1, 1, 1, 1, 1, 1, 1, 1, 1, 1, 1, 1, 1, 1, 1, 1, 1, 3, 3, 3, 3, 3, 3, 3, 3, 3, 3, 3, 3, 3, 3, 3, 3, 3, 3, 3, 3, 3, 3, 3, 3, 3, 3, 3, 3, 3, 3, 3, 3, 3, 3, 3, 3, 3, 3, 3, 3, 3, 3, 3, 3, 3, 3, 3, 3, 3, 3, 3, 3, 3, 3, 3, 3, 3, 3, 3]\n",
      "(162,)\n",
      "[0, 0, 0, 0, 0, 0, 0, 0, 0, 0, 0, 0, 0, 0, 0, 1, 1, 1, 1, 1, 1, 1, 1, 1, 1, 1, 1, 1, 1, 1, 3, 3, 3, 3, 3, 3, 3, 3, 3, 3, 3, 3, 3, 3, 3, 3, 3, 3]\n",
      "(48,)\n"
     ]
    }
   ],
   "source": [
    "       \n",
    "folderpath = 'data/basic/training/'\n",
    "X_train=readimagesfromfolder(folderpath, 0, 0)\n",
    "print(np.shape(X_train))\n",
    "\n",
    "folderpath = 'data/basic/test/'\n",
    "X_test=readimagesfromfolder(folderpath, 0, 0)\n",
    "print(np.shape(X_test))\n",
    "\n",
    "y_train = readlabelfromcsv(\"data/basic/training.csv\")\n",
    "y_test = readlabelfromcsv(\"data/basic/test.csv\")\n",
    "\n",
    "print(y_train)\n",
    "print(np.shape(y_train))\n",
    "\n",
    "print(y_test)\n",
    "print(np.shape(y_test))\n"
   ]
  },
  {
   "cell_type": "code",
   "execution_count": 34,
   "metadata": {
    "collapsed": false,
    "deletable": true,
    "editable": true
   },
   "outputs": [],
   "source": [
    "# normalize inputs from 0-255 to 0-1\n",
    "X_train = X_train / 255\n",
    "X_test = X_test / 255\n",
    "# one hot encode outputs\n",
    "y_train = np_utils.to_categorical(y_train)\n",
    "y_test = np_utils.to_categorical(y_test)\n",
    "num_classes = y_test.shape[1]"
   ]
  },
  {
   "cell_type": "code",
   "execution_count": 35,
   "metadata": {
    "collapsed": false,
    "deletable": true,
    "editable": true
   },
   "outputs": [
    {
     "name": "stdout",
     "output_type": "stream",
     "text": [
      "Train on 162 samples, validate on 48 samples\n",
      "Epoch 1/50\n",
      "0s - loss: 1.4956 - acc: 0.2593 - val_loss: 1.2411 - val_acc: 0.3750\n",
      "Epoch 2/50\n",
      "0s - loss: 1.2151 - acc: 0.3025 - val_loss: 1.1200 - val_acc: 0.3125\n",
      "Epoch 3/50\n",
      "0s - loss: 1.0630 - acc: 0.4691 - val_loss: 1.0693 - val_acc: 0.5208\n",
      "Epoch 4/50\n",
      "0s - loss: 0.9745 - acc: 0.6481 - val_loss: 1.0133 - val_acc: 0.4375\n",
      "Epoch 5/50\n",
      "0s - loss: 0.8308 - acc: 0.7037 - val_loss: 0.9227 - val_acc: 0.5417\n",
      "Epoch 6/50\n",
      "0s - loss: 0.6597 - acc: 0.7778 - val_loss: 0.9105 - val_acc: 0.5625\n",
      "Epoch 7/50\n",
      "0s - loss: 0.5586 - acc: 0.7963 - val_loss: 0.8354 - val_acc: 0.5833\n",
      "Epoch 8/50\n",
      "0s - loss: 0.3694 - acc: 0.8642 - val_loss: 0.7576 - val_acc: 0.5833\n",
      "Epoch 9/50\n",
      "0s - loss: 0.2822 - acc: 0.9074 - val_loss: 0.8883 - val_acc: 0.6250\n",
      "Epoch 10/50\n",
      "0s - loss: 0.2131 - acc: 0.9444 - val_loss: 0.7648 - val_acc: 0.6250\n",
      "Epoch 11/50\n",
      "0s - loss: 0.1271 - acc: 0.9691 - val_loss: 0.7688 - val_acc: 0.6250\n",
      "Epoch 12/50\n",
      "0s - loss: 0.0842 - acc: 0.9938 - val_loss: 0.7975 - val_acc: 0.6875\n",
      "Epoch 13/50\n",
      "0s - loss: 0.0564 - acc: 1.0000 - val_loss: 0.7671 - val_acc: 0.7500\n",
      "Epoch 14/50\n",
      "0s - loss: 0.0719 - acc: 0.9938 - val_loss: 1.0853 - val_acc: 0.5417\n",
      "Epoch 15/50\n",
      "0s - loss: 0.0579 - acc: 0.9877 - val_loss: 0.7444 - val_acc: 0.6875\n",
      "Epoch 16/50\n",
      "0s - loss: 0.0356 - acc: 1.0000 - val_loss: 0.8099 - val_acc: 0.7500\n",
      "Epoch 17/50\n",
      "0s - loss: 0.0187 - acc: 1.0000 - val_loss: 0.7561 - val_acc: 0.6667\n",
      "Epoch 18/50\n",
      "0s - loss: 0.0099 - acc: 1.0000 - val_loss: 0.8041 - val_acc: 0.7083\n",
      "Epoch 19/50\n",
      "0s - loss: 0.0101 - acc: 1.0000 - val_loss: 0.8307 - val_acc: 0.6875\n",
      "Epoch 20/50\n",
      "0s - loss: 0.0076 - acc: 1.0000 - val_loss: 0.8556 - val_acc: 0.6667\n",
      "Epoch 21/50\n",
      "0s - loss: 0.0055 - acc: 1.0000 - val_loss: 0.8551 - val_acc: 0.6667\n",
      "Epoch 22/50\n",
      "0s - loss: 0.0055 - acc: 1.0000 - val_loss: 0.8812 - val_acc: 0.6875\n",
      "Epoch 23/50\n",
      "0s - loss: 0.0046 - acc: 1.0000 - val_loss: 0.8764 - val_acc: 0.6875\n",
      "Epoch 24/50\n",
      "0s - loss: 0.0033 - acc: 1.0000 - val_loss: 0.8727 - val_acc: 0.6667\n",
      "Epoch 25/50\n",
      "0s - loss: 0.0033 - acc: 1.0000 - val_loss: 0.8695 - val_acc: 0.7083\n",
      "Epoch 26/50\n",
      "0s - loss: 0.0037 - acc: 1.0000 - val_loss: 0.8901 - val_acc: 0.6875\n",
      "Epoch 27/50\n",
      "0s - loss: 0.0028 - acc: 1.0000 - val_loss: 0.8917 - val_acc: 0.7083\n",
      "Epoch 28/50\n",
      "0s - loss: 0.0031 - acc: 1.0000 - val_loss: 0.9258 - val_acc: 0.6875\n",
      "Epoch 29/50\n",
      "0s - loss: 0.0033 - acc: 1.0000 - val_loss: 0.9185 - val_acc: 0.6667\n",
      "Epoch 30/50\n",
      "0s - loss: 0.0024 - acc: 1.0000 - val_loss: 0.9411 - val_acc: 0.6458\n",
      "Epoch 31/50\n",
      "0s - loss: 0.0023 - acc: 1.0000 - val_loss: 0.9198 - val_acc: 0.7083\n",
      "Epoch 32/50\n",
      "0s - loss: 0.0023 - acc: 1.0000 - val_loss: 0.9256 - val_acc: 0.7083\n",
      "Epoch 33/50\n",
      "0s - loss: 0.0019 - acc: 1.0000 - val_loss: 0.9594 - val_acc: 0.6250\n",
      "Epoch 34/50\n",
      "0s - loss: 0.0018 - acc: 1.0000 - val_loss: 0.9524 - val_acc: 0.6667\n",
      "Epoch 35/50\n",
      "0s - loss: 0.0018 - acc: 1.0000 - val_loss: 0.9413 - val_acc: 0.6875\n",
      "Epoch 36/50\n",
      "0s - loss: 0.0019 - acc: 1.0000 - val_loss: 0.9511 - val_acc: 0.6875\n",
      "Epoch 37/50\n",
      "0s - loss: 0.0019 - acc: 1.0000 - val_loss: 0.9555 - val_acc: 0.6875\n",
      "Epoch 38/50\n",
      "0s - loss: 0.0014 - acc: 1.0000 - val_loss: 0.9679 - val_acc: 0.6667\n",
      "Epoch 39/50\n",
      "0s - loss: 0.0012 - acc: 1.0000 - val_loss: 0.9635 - val_acc: 0.6875\n",
      "Epoch 40/50\n",
      "0s - loss: 0.0014 - acc: 1.0000 - val_loss: 0.9647 - val_acc: 0.7083\n",
      "Epoch 41/50\n",
      "0s - loss: 0.0011 - acc: 1.0000 - val_loss: 0.9649 - val_acc: 0.6875\n",
      "Epoch 42/50\n",
      "0s - loss: 9.3668e-04 - acc: 1.0000 - val_loss: 0.9698 - val_acc: 0.6875\n",
      "Epoch 43/50\n",
      "0s - loss: 0.0010 - acc: 1.0000 - val_loss: 0.9818 - val_acc: 0.6875\n",
      "Epoch 44/50\n",
      "0s - loss: 0.0012 - acc: 1.0000 - val_loss: 1.0012 - val_acc: 0.6875\n",
      "Epoch 45/50\n",
      "0s - loss: 9.0641e-04 - acc: 1.0000 - val_loss: 1.0063 - val_acc: 0.6875\n",
      "Epoch 46/50\n",
      "0s - loss: 9.4921e-04 - acc: 1.0000 - val_loss: 1.0091 - val_acc: 0.6875\n",
      "Epoch 47/50\n",
      "0s - loss: 7.5250e-04 - acc: 1.0000 - val_loss: 1.0097 - val_acc: 0.6875\n",
      "Epoch 48/50\n",
      "0s - loss: 8.0562e-04 - acc: 1.0000 - val_loss: 1.0103 - val_acc: 0.7083\n",
      "Epoch 49/50\n",
      "0s - loss: 8.2361e-04 - acc: 1.0000 - val_loss: 1.0119 - val_acc: 0.6875\n",
      "Epoch 50/50\n",
      "0s - loss: 8.9329e-04 - acc: 1.0000 - val_loss: 1.0184 - val_acc: 0.7083\n",
      "Baseline Error: 29.17%\n"
     ]
    }
   ],
   "source": [
    "def larger_model():\n",
    "\t# create model\n",
    "\tmodel = Sequential()\n",
    "\tmodel.add(Convolution2D(8, 5, 5, border_mode='valid', input_shape=(1, 180, 180), activation='relu'))\n",
    "\tmodel.add(MaxPooling2D(pool_size=(2, 2)))\n",
    "\tmodel.add(Convolution2D(16, 3, 3, activation='relu'))\n",
    "\tmodel.add(MaxPooling2D(pool_size=(2, 2)))\n",
    "\tmodel.add(Dropout(0.5))\n",
    "\tmodel.add(Flatten())\n",
    "\tmodel.add(Dense(128, activation='relu'))\n",
    "\tmodel.add(Dense(50, activation='relu'))\n",
    "\tmodel.add(Dense(num_classes, activation='softmax'))\n",
    "\t# Compile model\n",
    "\tmodel.compile(loss='categorical_crossentropy', optimizer='adam', metrics=['accuracy'])\n",
    "\treturn model\n",
    "\n",
    "# build the model\n",
    "model = larger_model()\n",
    "# Fit the model\n",
    "model.fit(X_train, y_train, validation_data=(X_test, y_test), nb_epoch=50, batch_size=32, verbose=2)\n",
    "# Final evaluation of the model\n",
    "scores = model.evaluate(X_test, y_test, verbose=0)\n",
    "print(\"Baseline Error: %.2f%%\" % (100-scores[1]*100))"
   ]
  }
 ],
 "metadata": {
  "kernelspec": {
   "display_name": "Python 2",
   "language": "python",
   "name": "python2"
  },
  "language_info": {
   "codemirror_mode": {
    "name": "ipython",
    "version": 2
   },
   "file_extension": ".py",
   "mimetype": "text/x-python",
   "name": "python",
   "nbconvert_exporter": "python",
   "pygments_lexer": "ipython2",
   "version": "2.7.6"
  },
  "widgets": {
   "state": {},
   "version": "1.1.2"
  }
 },
 "nbformat": 4,
 "nbformat_minor": 2
}
