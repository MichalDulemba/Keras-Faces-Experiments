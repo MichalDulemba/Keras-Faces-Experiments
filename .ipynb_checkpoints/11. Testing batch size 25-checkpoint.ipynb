{
 "cells": [
  {
   "cell_type": "code",
   "execution_count": 1,
   "metadata": {
    "collapsed": true
   },
   "outputs": [],
   "source": [
    "# Version 11\n",
    "# change : batch size - 25, as shown in message from Keras - you should use batch size which number_of_samples is divisible by \n",
    "# Conclusions : Used \"proper\" batch size gave more stable results but hard to say if it really helps"
   ]
  },
  {
   "cell_type": "code",
   "execution_count": 2,
   "metadata": {
    "collapsed": false,
    "deletable": true,
    "editable": true
   },
   "outputs": [
    {
     "name": "stderr",
     "output_type": "stream",
     "text": [
      "Using TensorFlow backend.\n"
     ]
    }
   ],
   "source": [
    "#all imports\n",
    "%matplotlib inline\n",
    "import numpy as np\n",
    "import matplotlib.pyplot as plt\n",
    "import os\n",
    "import cv2\n",
    "import csv\n",
    "import imageio\n",
    "\n",
    "from keras.models import Sequential\n",
    "from keras.layers import Dense\n",
    "from keras.layers import Dropout\n",
    "from keras.layers import Flatten\n",
    "from keras.layers.convolutional import Convolution2D\n",
    "from keras.layers.convolutional import MaxPooling2D\n",
    "from keras.preprocessing.image import ImageDataGenerator\n",
    "from keras.utils import np_utils\n",
    "from keras import backend as K\n",
    "from keras.optimizers import SGD\n",
    "from keras import regularizers\n"
   ]
  },
  {
   "cell_type": "code",
   "execution_count": 3,
   "metadata": {
    "collapsed": true,
    "deletable": true,
    "editable": true
   },
   "outputs": [],
   "source": [
    "K.set_image_dim_ordering('th')\n",
    "seed = 7\n",
    "np.random.seed(seed)"
   ]
  },
  {
   "cell_type": "code",
   "execution_count": 4,
   "metadata": {
    "collapsed": false,
    "deletable": true,
    "editable": true
   },
   "outputs": [],
   "source": [
    "def rgb2gray(rgb):\n",
    "\n",
    "    r, g, b = rgb[:,:,0], rgb[:,:,1], rgb[:,:,2]\n",
    "    gray = 0.2989 * r + 0.5870 * g + 0.1140 * b\n",
    "\n",
    "    return gray\n",
    "\n",
    "def readimagesfromfolder(path, color, show):\n",
    "\timagepackage_list = []\n",
    "\timagepackage = []\n",
    "\timagelist = []\n",
    "\tfilelist = sorted(os.listdir(path))\n",
    "\tfor filename in filelist:\n",
    "\t\tfullfilename =  path + filename\n",
    "\t\t#print(fullfilename)        \n",
    "\t\tsingleimage = imageio.imread(fullfilename)\n",
    "\t\tsingleimage = cv2.resize(singleimage,(96,96), interpolation=cv2.INTER_AREA)        \n",
    "\t\tsingleimage = rgb2gray(singleimage)\n",
    "\t\t#print(singleimage)        \n",
    "\t\tif show==1:\n",
    "\t\t\tplt.imshow(singleimage)\n",
    "\t\t\tplt.show()\n",
    "\t\timagepackage.append(singleimage)\n",
    "\t\timagepackage_list.append(imagepackage)        \n",
    "\t\timagepackage = []        \n",
    "\t#print(len(imagepackage))        \n",
    "\timagepackage_list = np.float32(imagepackage_list)\n",
    "\t#cv2.destroyAllWindows()\n",
    "\treturn imagepackage_list\n",
    "\n",
    "def readlabelfromcsv(filename):\n",
    "    training_y = []\n",
    "    with open(filename) as f:\n",
    "        #training_y.append(f.readline())\n",
    "        content = csv.reader(f)\n",
    "        for line in content:\n",
    "            #print(line[0])\n",
    "            training_y.append(int(line[0]))\n",
    "    return training_y\n",
    "\n",
    "\n"
   ]
  },
  {
   "cell_type": "code",
   "execution_count": 5,
   "metadata": {
    "collapsed": false,
    "deletable": true,
    "editable": true
   },
   "outputs": [
    {
     "name": "stdout",
     "output_type": "stream",
     "text": [
      "(162, 1, 96, 96)\n",
      "(48, 1, 96, 96)\n",
      "[0, 0, 0, 0, 0, 0, 0, 0, 0, 0, 0, 0, 0, 0, 0, 0, 0, 0, 0, 0, 0, 0, 0, 0, 0, 0, 0, 0, 0, 0, 0, 0, 0, 0, 0, 0, 0, 0, 0, 0, 0, 0, 0, 0, 0, 0, 0, 0, 0, 0, 0, 0, 1, 1, 1, 1, 1, 1, 1, 1, 1, 1, 1, 1, 1, 1, 1, 1, 1, 1, 1, 1, 1, 1, 1, 1, 1, 1, 1, 1, 1, 1, 1, 1, 1, 1, 1, 1, 1, 1, 1, 1, 1, 1, 1, 1, 1, 1, 1, 1, 1, 1, 1, 3, 3, 3, 3, 3, 3, 3, 3, 3, 3, 3, 3, 3, 3, 3, 3, 3, 3, 3, 3, 3, 3, 3, 3, 3, 3, 3, 3, 3, 3, 3, 3, 3, 3, 3, 3, 3, 3, 3, 3, 3, 3, 3, 3, 3, 3, 3, 3, 3, 3, 3, 3, 3, 3, 3, 3, 3, 3, 3]\n",
      "(162,)\n",
      "[0, 0, 0, 0, 0, 0, 0, 0, 0, 0, 0, 0, 0, 0, 0, 1, 1, 1, 1, 1, 1, 1, 1, 1, 1, 1, 1, 1, 1, 1, 3, 3, 3, 3, 3, 3, 3, 3, 3, 3, 3, 3, 3, 3, 3, 3, 3, 3]\n",
      "(48,)\n"
     ]
    }
   ],
   "source": [
    "       \n",
    "folderpath = 'data/basic/training/'\n",
    "X_train=readimagesfromfolder(folderpath, 0, 0)\n",
    "print(np.shape(X_train))\n",
    "\n",
    "folderpath = 'data/basic/test/'\n",
    "X_test=readimagesfromfolder(folderpath, 0, 0)\n",
    "print(np.shape(X_test))\n",
    "\n",
    "y_train = readlabelfromcsv(\"data/basic/training.csv\")\n",
    "y_test = readlabelfromcsv(\"data/basic/test.csv\")\n",
    "\n",
    "print(y_train)\n",
    "print(np.shape(y_train))\n",
    "\n",
    "print(y_test)\n",
    "print(np.shape(y_test))\n",
    "\n",
    "datagen = ImageDataGenerator(\n",
    "    featurewise_center=False,  # set input mean to 0 over the dataset\n",
    "    samplewise_center=False,  # set each sample mean to 0\n",
    "    featurewise_std_normalization=False,  # divide inputs by std of the dataset\n",
    "    samplewise_std_normalization=False,  # divide each input by its std\n",
    "    zca_whitening=False,  # apply ZCA whitening\n",
    "    rotation_range=8,  # randomly rotate images in the range (degrees, 0 to 180)\n",
    "    width_shift_range=0.2,  # randomly shift images horizontally (fraction of total width)\n",
    "    height_shift_range=0.2,  # randomly shift images vertically (fraction of total height)\n",
    "    horizontal_flip=True,  # randomly flip images\n",
    "    vertical_flip=False) # randomly flip images\n",
    "\n",
    "datagen.fit(X_train)"
   ]
  },
  {
   "cell_type": "code",
   "execution_count": 6,
   "metadata": {
    "collapsed": false,
    "deletable": true,
    "editable": true
   },
   "outputs": [],
   "source": [
    "\n",
    "\n",
    "# normalize inputs from 0-255 to 0-1\n",
    "X_train = X_train / 255\n",
    "X_test = X_test / 255\n",
    "# one hot encode outputs\n",
    "y_train = np_utils.to_categorical(y_train)\n",
    "y_test = np_utils.to_categorical(y_test)\n",
    "num_classes = y_test.shape[1]"
   ]
  },
  {
   "cell_type": "code",
   "execution_count": 7,
   "metadata": {
    "collapsed": false,
    "deletable": true,
    "editable": true,
    "scrolled": true
   },
   "outputs": [
    {
     "name": "stdout",
     "output_type": "stream",
     "text": [
      "Epoch 1/50\n"
     ]
    },
    {
     "name": "stderr",
     "output_type": "stream",
     "text": [
      "/usr/local/lib/python2.7/dist-packages/keras/engine/training.py:1462: UserWarning: Epoch comprised more than `samples_per_epoch` samples, which might affect learning results. Set `samples_per_epoch` correctly to avoid this warning.\n",
      "  warnings.warn('Epoch comprised more than '\n"
     ]
    },
    {
     "name": "stdout",
     "output_type": "stream",
     "text": [
      "26s - loss: 0.7139 - acc: 0.6940 - val_loss: 0.5381 - val_acc: 0.7500\n",
      "Epoch 2/50\n",
      "20s - loss: 0.3849 - acc: 0.8554 - val_loss: 0.6240 - val_acc: 0.7708\n",
      "Epoch 3/50\n",
      "20s - loss: 0.2104 - acc: 0.9202 - val_loss: 0.6194 - val_acc: 0.8125\n",
      "Epoch 4/50\n",
      "20s - loss: 0.1179 - acc: 0.9588 - val_loss: 0.4277 - val_acc: 0.8125\n",
      "Epoch 5/50\n",
      "20s - loss: 0.0661 - acc: 0.9781 - val_loss: 0.5374 - val_acc: 0.7708\n",
      "Epoch 6/50\n",
      "20s - loss: 0.0660 - acc: 0.9779 - val_loss: 0.4381 - val_acc: 0.8333\n",
      "Epoch 7/50\n",
      "20s - loss: 0.0635 - acc: 0.9795 - val_loss: 0.4776 - val_acc: 0.8958\n",
      "Epoch 8/50\n",
      "20s - loss: 0.0514 - acc: 0.9819 - val_loss: 0.6478 - val_acc: 0.8542\n",
      "Epoch 9/50\n",
      "20s - loss: 0.0334 - acc: 0.9881 - val_loss: 0.6266 - val_acc: 0.8958\n",
      "Epoch 10/50\n",
      "20s - loss: 0.0287 - acc: 0.9924 - val_loss: 0.5203 - val_acc: 0.8958\n",
      "Epoch 11/50\n",
      "20s - loss: 0.0369 - acc: 0.9875 - val_loss: 0.4785 - val_acc: 0.9167\n",
      "Epoch 12/50\n",
      "20s - loss: 0.0173 - acc: 0.9952 - val_loss: 0.5787 - val_acc: 0.8958\n",
      "Epoch 13/50\n",
      "20s - loss: 0.0211 - acc: 0.9926 - val_loss: 0.4536 - val_acc: 0.9375\n",
      "Epoch 14/50\n",
      "20s - loss: 0.0104 - acc: 0.9964 - val_loss: 0.4709 - val_acc: 0.9375\n",
      "Epoch 15/50\n",
      "20s - loss: 0.0366 - acc: 0.9906 - val_loss: 0.4590 - val_acc: 0.8750\n",
      "Epoch 16/50\n",
      "20s - loss: 0.0208 - acc: 0.9936 - val_loss: 0.4901 - val_acc: 0.8958\n",
      "Epoch 17/50\n",
      "20s - loss: 0.0483 - acc: 0.9853 - val_loss: 0.4352 - val_acc: 0.9167\n",
      "Epoch 18/50\n",
      "20s - loss: 0.0377 - acc: 0.9886 - val_loss: 0.3264 - val_acc: 0.8542\n",
      "Epoch 19/50\n",
      "20s - loss: 0.0143 - acc: 0.9958 - val_loss: 0.2923 - val_acc: 0.9375\n",
      "Epoch 20/50\n",
      "20s - loss: 0.0260 - acc: 0.9924 - val_loss: 0.6108 - val_acc: 0.8542\n",
      "Epoch 21/50\n",
      "20s - loss: 0.0197 - acc: 0.9940 - val_loss: 0.6174 - val_acc: 0.8958\n",
      "Epoch 22/50\n",
      "20s - loss: 0.0350 - acc: 0.9912 - val_loss: 0.3278 - val_acc: 0.8750\n",
      "Epoch 23/50\n",
      "20s - loss: 0.0212 - acc: 0.9946 - val_loss: 0.2310 - val_acc: 0.9792\n",
      "Epoch 24/50\n",
      "20s - loss: 0.0090 - acc: 0.9976 - val_loss: 0.5576 - val_acc: 0.8958\n",
      "Epoch 25/50\n",
      "20s - loss: 0.0111 - acc: 0.9966 - val_loss: 0.4050 - val_acc: 0.8958\n",
      "Epoch 26/50\n",
      "20s - loss: 0.0255 - acc: 0.9938 - val_loss: 0.7915 - val_acc: 0.8542\n",
      "Epoch 27/50\n",
      "20s - loss: 0.0075 - acc: 0.9972 - val_loss: 0.5618 - val_acc: 0.8958\n",
      "Epoch 28/50\n",
      "20s - loss: 0.0129 - acc: 0.9956 - val_loss: 0.3968 - val_acc: 0.9583\n",
      "Epoch 29/50\n",
      "20s - loss: 0.0310 - acc: 0.9920 - val_loss: 0.4360 - val_acc: 0.9375\n",
      "Epoch 30/50\n",
      "20s - loss: 0.0137 - acc: 0.9970 - val_loss: 0.2064 - val_acc: 0.9583\n",
      "Epoch 31/50\n",
      "20s - loss: 0.0109 - acc: 0.9980 - val_loss: 0.3145 - val_acc: 0.8958\n",
      "Epoch 32/50\n",
      "20s - loss: 0.0104 - acc: 0.9968 - val_loss: 0.3923 - val_acc: 0.9583\n",
      "Epoch 33/50\n",
      "20s - loss: 0.0114 - acc: 0.9964 - val_loss: 0.2516 - val_acc: 0.9583\n",
      "Epoch 34/50\n",
      "20s - loss: 0.0010 - acc: 0.9996 - val_loss: 0.3297 - val_acc: 0.9583\n",
      "Epoch 35/50\n",
      "20s - loss: 0.0345 - acc: 0.9881 - val_loss: 0.3949 - val_acc: 0.8958\n",
      "Epoch 36/50\n",
      "20s - loss: 0.0140 - acc: 0.9958 - val_loss: 0.2663 - val_acc: 0.9167\n",
      "Epoch 37/50\n",
      "20s - loss: 0.0062 - acc: 0.9990 - val_loss: 0.3870 - val_acc: 0.9583\n",
      "Epoch 38/50\n",
      "20s - loss: 0.0249 - acc: 0.9938 - val_loss: 0.4001 - val_acc: 0.8958\n",
      "Epoch 39/50\n",
      "20s - loss: 0.0053 - acc: 0.9986 - val_loss: 0.4320 - val_acc: 0.9375\n",
      "Epoch 40/50\n",
      "20s - loss: 0.0081 - acc: 0.9978 - val_loss: 0.3379 - val_acc: 0.9375\n",
      "Epoch 41/50\n",
      "20s - loss: 0.0055 - acc: 0.9980 - val_loss: 0.3050 - val_acc: 0.9792\n",
      "Epoch 42/50\n",
      "20s - loss: 0.0385 - acc: 0.9896 - val_loss: 0.3455 - val_acc: 0.8958\n",
      "Epoch 43/50\n",
      "20s - loss: 0.0111 - acc: 0.9974 - val_loss: 0.5841 - val_acc: 0.8958\n",
      "Epoch 44/50\n",
      "20s - loss: 0.0115 - acc: 0.9968 - val_loss: 0.2436 - val_acc: 0.9167\n",
      "Epoch 45/50\n",
      "20s - loss: 0.0196 - acc: 0.9938 - val_loss: 0.3184 - val_acc: 0.9375\n",
      "Epoch 46/50\n",
      "20s - loss: 0.0105 - acc: 0.9976 - val_loss: 0.2121 - val_acc: 0.9792\n",
      "Epoch 47/50\n",
      "20s - loss: 7.0224e-04 - acc: 0.9998 - val_loss: 0.1902 - val_acc: 0.9792\n",
      "Epoch 48/50\n",
      "20s - loss: 0.0080 - acc: 0.9978 - val_loss: 0.1640 - val_acc: 0.9375\n",
      "Epoch 49/50\n",
      "20s - loss: 0.0054 - acc: 0.9986 - val_loss: 0.1129 - val_acc: 0.9375\n",
      "Epoch 50/50\n",
      "20s - loss: 0.0058 - acc: 0.9990 - val_loss: 0.2010 - val_acc: 0.8958\n",
      "[0.20095957318941751, 0.89583333333333337]\n",
      "Baseline Error: 10.42%\n"
     ]
    }
   ],
   "source": [
    "def larger_model():\n",
    "\t# create model\n",
    "\tmodel = Sequential()\n",
    "\tmodel.add(Convolution2D(16, 3, 1, border_mode='same', input_shape=(1, 96, 96), activation='relu'))\n",
    "\tmodel.add(Convolution2D(24, 5, 3, border_mode='same', activation='relu'))\n",
    "\tmodel.add(MaxPooling2D(pool_size=(2, 2)))\n",
    "\tmodel.add(Dropout(0.2))\n",
    "\tmodel.add(Convolution2D(32, 5, 3, border_mode='same', activation='relu'))\n",
    "\tmodel.add(Convolution2D(48, 5, 3, border_mode='same', activation='relu'))\n",
    "\tmodel.add(MaxPooling2D(pool_size=(2, 2)))\n",
    "\tmodel.add(Dropout(0.2))\n",
    "\tmodel.add(Flatten())\n",
    "\tmodel.add(Dense(1000, activation='relu'))\n",
    "\tmodel.add(Dense(100, activation='relu'))\n",
    "\tmodel.add(Dense(50, activation='relu'))\n",
    "\tmodel.add(Dense(num_classes, activation='softmax'))\n",
    "\t# Compile model\n",
    "\tmodel.compile(loss='categorical_crossentropy', optimizer='adam', metrics=['accuracy'])\n",
    "\treturn model\n",
    "\n",
    "# build the model\n",
    "model = larger_model()\n",
    "# Fit the model\n",
    "model.fit_generator(datagen.flow(X_train, y_train, batch_size=25),samples_per_epoch = 5000, nb_epoch = 50, verbose=2, validation_data=(X_test, y_test))\n",
    "# Final evaluation of the model\n",
    "scores = model.evaluate(X_test, y_test, verbose=0)\n",
    "print scores\n",
    "print(\"Baseline Error: %.2f%%\" % (100-scores[1]*100))"
   ]
  }
 ],
 "metadata": {
  "kernelspec": {
   "display_name": "Python 2",
   "language": "python",
   "name": "python2"
  },
  "language_info": {
   "codemirror_mode": {
    "name": "ipython",
    "version": 2
   },
   "file_extension": ".py",
   "mimetype": "text/x-python",
   "name": "python",
   "nbconvert_exporter": "python",
   "pygments_lexer": "ipython2",
   "version": "2.7.6"
  },
  "widgets": {
   "state": {},
   "version": "1.1.2"
  }
 },
 "nbformat": 4,
 "nbformat_minor": 2
}
