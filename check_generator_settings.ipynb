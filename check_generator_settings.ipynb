{
 "cells": [
  {
   "cell_type": "code",
   "execution_count": 5,
   "metadata": {
    "collapsed": false
   },
   "outputs": [],
   "source": [
    "from keras.preprocessing.image import ImageDataGenerator\n"
   ]
  },
  {
   "cell_type": "code",
   "execution_count": 6,
   "metadata": {
    "collapsed": false
   },
   "outputs": [
    {
     "name": "stdout",
     "output_type": "stream",
     "text": [
      "Found 82 images belonging to 2 classes.\n"
     ]
    }
   ],
   "source": [
    "\n",
    "folder = \"training_blond_sep\" # important - path with no slash but add slash in generator, also create a folder aug\n",
    "\n",
    "# cat1 , cat2 - folders with separate categories\n",
    "\n",
    "datagen = ImageDataGenerator (\n",
    "    width_shift_range = 0.3,\n",
    "    height_shift_range = 0.3,\n",
    "    horizontal_flip = True,\n",
    "    zoom_range = 0.2,\n",
    "    rotation_range = 10,\n",
    "    fill_mode=\"constant\", \n",
    "    cval=0\n",
    ")\n",
    "\n",
    "i=0;\n",
    "\n",
    "for batch in datagen.flow_from_directory(folder, classes=['cat1','cat2'], target_size=(180,180), batch_size=100,  shuffle = False, seed=7, save_to_dir=folder+'/aug', save_prefix=\"changed\"):\n",
    "    i +=1\n",
    "    if i >100:\n",
    "        break\n"
   ]
  }
 ],
 "metadata": {
  "kernelspec": {
   "display_name": "Python 2",
   "language": "python",
   "name": "python2"
  },
  "language_info": {
   "codemirror_mode": {
    "name": "ipython",
    "version": 2
   },
   "file_extension": ".py",
   "mimetype": "text/x-python",
   "name": "python",
   "nbconvert_exporter": "python",
   "pygments_lexer": "ipython2",
   "version": "2.7.6"
  }
 },
 "nbformat": 4,
 "nbformat_minor": 1
}
